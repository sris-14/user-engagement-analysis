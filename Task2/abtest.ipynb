{
 "cells": [
  {
   "cell_type": "code",
   "execution_count": 3,
   "metadata": {},
   "outputs": [],
   "source": [
    "import pandas as pd\n",
    "import numpy as np\n",
    "import random\n",
    "# Generate random ages for users\n",
    "df = pd.read_csv(\"D:/Internship Assignment/user_data.csv\")\n",
    "\n"
   ]
  },
  {
   "cell_type": "code",
   "execution_count": 10,
   "metadata": {},
   "outputs": [],
   "source": [
    "# Split dataset into A (control) and B (variation)\n",
    "df['TestGroup'] = np.where(np.random.rand(len(df)) > 0.5, 'A', 'B')\n",
    "df.to_csv(\"D:/Internship Assignment/user_data.csv\")\n"
   ]
  },
  {
   "cell_type": "code",
   "execution_count": 11,
   "metadata": {},
   "outputs": [
    {
     "name": "stdout",
     "output_type": "stream",
     "text": [
      "  TestGroup  AvgTimeSpent  BounceRate  PageViews\n",
      "0         A      7.945305    0.483832      26179\n",
      "1         B      7.876822    0.506613      26386\n"
     ]
    }
   ],
   "source": [
    "# A/B Test Analysis for Time Spent and Bounce Rate\n",
    "ab_test_results = df.groupby('TestGroup').agg({\n",
    "    'AvgTimeSpent': 'mean',\n",
    "    'BounceRate': 'mean',\n",
    "    'PageViews': 'sum'\n",
    "}).reset_index()\n",
    "\n",
    "print(ab_test_results)\n"
   ]
  },
  {
   "cell_type": "code",
   "execution_count": 12,
   "metadata": {},
   "outputs": [
    {
     "name": "stdout",
     "output_type": "stream",
     "text": [
      "T-statistic: 0.5934433694407938, P-value: 0.552911325592048\n"
     ]
    }
   ],
   "source": [
    "from scipy import stats\n",
    "\n",
    "# t-test for average time spent\n",
    "time_spent_a = df[df['TestGroup'] == 'A']['AvgTimeSpent']\n",
    "time_spent_b = df[df['TestGroup'] == 'B']['AvgTimeSpent']\n",
    "\n",
    "t_stat, p_value = stats.ttest_ind(time_spent_a, time_spent_b)\n",
    "print(f\"T-statistic: {t_stat}, P-value: {p_value}\")\n"
   ]
  },
  {
   "cell_type": "code",
   "execution_count": 13,
   "metadata": {},
   "outputs": [
    {
     "name": "stdout",
     "output_type": "stream",
     "text": [
      "T-statistic for Page Views: -0.7700350134083279, P-value: 0.44131551668108526\n"
     ]
    }
   ],
   "source": [
    "# t-test for Page Views\n",
    "views_a = df[df['TestGroup'] == 'A']['PageViews']\n",
    "views_b = df[df['TestGroup'] == 'B']['PageViews']\n",
    "\n",
    "t_stat_views, p_value_views = stats.ttest_ind(views_a, views_b)\n",
    "print(f\"T-statistic for Page Views: {t_stat_views}, P-value: {p_value_views}\")\n"
   ]
  },
  {
   "cell_type": "code",
   "execution_count": 14,
   "metadata": {},
   "outputs": [
    {
     "name": "stdout",
     "output_type": "stream",
     "text": [
      "T-statistic for Bounce Rate: -1.6110191795866768, P-value: 0.10723868712110338\n"
     ]
    }
   ],
   "source": [
    "# t-test for Page Views\n",
    "bounce_a = df[df['TestGroup'] == 'A']['BounceRate']\n",
    "bounce_b = df[df['TestGroup'] == 'B']['BounceRate']\n",
    "\n",
    "t_stat_bounce, p_value_bounce = stats.ttest_ind(bounce_a, bounce_b)\n",
    "print(f\"T-statistic for Bounce Rate: {t_stat_bounce}, P-value: {p_value_bounce}\")\n"
   ]
  },
  {
   "cell_type": "markdown",
   "metadata": {},
   "source": [
    "`Recommendations` "
   ]
  },
  {
   "cell_type": "markdown",
   "metadata": {},
   "source": [
    "Here are several **content changes** that can test in your A/B testing strategy to potentially improve user retention and reduce bounce rates for “Refund High School Chapter 22-30: The New Arc of Mook”:\n",
    "\n",
    "### 1. **Headlines and Titles**\n",
    "   - **A/B Test Variations**: Experiment with different headlines that emphasize urgency or curiosity. For example, compare a straightforward title like \"Refund High School: Chapter 22\" with something more engaging like \"What Happens in Chapter 22 Will Shock You!\".\n",
    "   - **Personalization**: Use personalized headlines based on user demographics or previous reading history (e.g., “Exclusive Insights for Our Returning Readers!”).\n",
    "\n",
    "### 2. **Visual Elements**\n",
    "   - **Cover Art and Thumbnails**: Test different cover images or thumbnails for the chapter. Use eye-catching art or teaser images that highlight key moments.\n",
    "   - **Color Schemes**: Experiment with different color schemes for the chapter layout to see if certain colors affect engagement positively.\n",
    "\n",
    "### 3. **Content Structure**\n",
    "   - **Content Length**: Test shorter summaries versus more detailed descriptions of the chapter. Analyze which format keeps users on the page longer.\n",
    "   - **Bullet Points or Lists**: Use bullet points for key highlights or character developments instead of lengthy paragraphs, making it easier to skim the content.\n",
    "\n",
    "### 4. **Call-to-Action (CTA)**\n",
    "   - **Button Text**: Experiment with different text for CTAs (e.g., “Start Reading Now” vs. “Dive Into the Action!”). \n",
    "   - **Placement**: Test the placement of CTAs to see if positioning them at the top or bottom of the page influences clicks and retention.\n",
    "\n",
    "### 5. **Engagement Features**\n",
    "   - **Comment Sections**: Introduce or enhance comment sections where readers can share thoughts or discuss chapters. Test visibility or prompts encouraging engagement.\n",
    "   - **User Polls/Surveys**: Implement polls about favorite characters or plot twists and analyze how interactive content affects time spent on the page.\n",
    "\n",
    "### 6. **Loading Speed and Mobile Optimization**\n",
    "   - **Page Load Times**: Optimize images and scripts to enhance loading times. Conduct A/B tests with different configurations to see if faster loading reduces bounce rates.\n",
    "   - **Mobile vs. Desktop Layouts**: Test different layouts tailored for mobile devices versus desktops, focusing on user experience.\n",
    "\n",
    "### 7. **Social Sharing Options**\n",
    "   - **Incorporate Social Sharing**: Test different placements and styles for social sharing buttons (e.g., “Share this chapter with friends!”) to encourage users to share content, potentially increasing engagement and retention.\n",
    "\n",
    "### 8. **Related Content Recommendations**\n",
    "   - **Recommendations Section**: Implement a section for related chapters or similar titles. Test different algorithms (e.g., based on genre, author, or user behavior) to see which increases user retention.\n",
    "   - **Featured Content**: Highlight trending webtoons or upcoming chapters to encourage users to stay engaged with your site.\n",
    "\n",
    "### Implementation:\n",
    "After identifying which content changes to test, it's important to clearly define the **success metrics** (e.g., average time spent, bounce rate, click-through rates on CTAs) and run the A/B tests over a significant period to collect reliable data.\n"
   ]
  }
 ],
 "metadata": {
  "kernelspec": {
   "display_name": "Python 3",
   "language": "python",
   "name": "python3"
  },
  "language_info": {
   "codemirror_mode": {
    "name": "ipython",
    "version": 3
   },
   "file_extension": ".py",
   "mimetype": "text/x-python",
   "name": "python",
   "nbconvert_exporter": "python",
   "pygments_lexer": "ipython3",
   "version": "3.12.6"
  }
 },
 "nbformat": 4,
 "nbformat_minor": 2
}
