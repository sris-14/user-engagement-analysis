{
 "cells": [
  {
   "cell_type": "code",
   "execution_count": 3,
   "metadata": {},
   "outputs": [],
   "source": [
    "import pandas as pd\n",
    "import numpy as np\n",
    "\n",
    "\n",
    "df = pd.read_csv(\"D:/Internship Assignment/user_data.csv\")\n",
    "\n"
   ]
  },
  {
   "cell_type": "code",
   "execution_count": 10,
   "metadata": {},
   "outputs": [],
   "source": [
    "# Split dataset into A (control) and B (variation)\n",
    "df['TestGroup'] = np.where(np.random.rand(len(df)) > 0.5, 'A', 'B')\n",
    "df.to_csv(\"D:/Internship Assignment/user_data.csv\")\n"
   ]
  },
  {
   "cell_type": "code",
   "execution_count": 11,
   "metadata": {},
   "outputs": [
    {
     "name": "stdout",
     "output_type": "stream",
     "text": [
      "  TestGroup  AvgTimeSpent  BounceRate  PageViews\n",
      "0         A      7.945305    0.483832      26179\n",
      "1         B      7.876822    0.506613      26386\n"
     ]
    }
   ],
   "source": [
    "# A/B Test Analysis for Time Spent and Bounce Rate\n",
    "ab_test_results = df.groupby('TestGroup').agg({\n",
    "    'AvgTimeSpent': 'mean',\n",
    "    'BounceRate': 'mean',\n",
    "    'PageViews': 'sum'\n",
    "}).reset_index()\n",
    "\n",
    "print(ab_test_results)\n"
   ]
  },
  {
   "cell_type": "code",
   "execution_count": 12,
   "metadata": {},
   "outputs": [
    {
     "name": "stdout",
     "output_type": "stream",
     "text": [
      "T-statistic: 0.5934433694407938, P-value: 0.552911325592048\n"
     ]
    }
   ],
   "source": [
    "from scipy import stats\n",
    "\n",
    "# t-test for average time spent\n",
    "time_spent_a = df[df['TestGroup'] == 'A']['AvgTimeSpent']\n",
    "time_spent_b = df[df['TestGroup'] == 'B']['AvgTimeSpent']\n",
    "\n",
    "t_stat, p_value = stats.ttest_ind(time_spent_a, time_spent_b)\n",
    "print(f\"T-statistic: {t_stat}, P-value: {p_value}\")\n"
   ]
  },
  {
   "cell_type": "code",
   "execution_count": 13,
   "metadata": {},
   "outputs": [
    {
     "name": "stdout",
     "output_type": "stream",
     "text": [
      "T-statistic for Page Views: -0.7700350134083279, P-value: 0.44131551668108526\n"
     ]
    }
   ],
   "source": [
    "# t-test for Page Views\n",
    "views_a = df[df['TestGroup'] == 'A']['PageViews']\n",
    "views_b = df[df['TestGroup'] == 'B']['PageViews']\n",
    "\n",
    "t_stat_views, p_value_views = stats.ttest_ind(views_a, views_b)\n",
    "print(f\"T-statistic for Page Views: {t_stat_views}, P-value: {p_value_views}\")\n"
   ]
  },
  {
   "cell_type": "code",
   "execution_count": 14,
   "metadata": {},
   "outputs": [
    {
     "name": "stdout",
     "output_type": "stream",
     "text": [
      "T-statistic for Bounce Rate: -1.6110191795866768, P-value: 0.10723868712110338\n"
     ]
    }
   ],
   "source": [
    "# t-test for Page Views\n",
    "bounce_a = df[df['TestGroup'] == 'A']['BounceRate']\n",
    "bounce_b = df[df['TestGroup'] == 'B']['BounceRate']\n",
    "\n",
    "t_stat_bounce, p_value_bounce = stats.ttest_ind(bounce_a, bounce_b)\n",
    "print(f\"T-statistic for Bounce Rate: {t_stat_bounce}, P-value: {p_value_bounce}\")\n"
   ]
  }
 ],
 "metadata": {
  "kernelspec": {
   "display_name": "Python 3",
   "language": "python",
   "name": "python3"
  },
  "language_info": {
   "codemirror_mode": {
    "name": "ipython",
    "version": 3
   },
   "file_extension": ".py",
   "mimetype": "text/x-python",
   "name": "python",
   "nbconvert_exporter": "python",
   "pygments_lexer": "ipython3",
   "version": "3.12.6"
  }
 },
 "nbformat": 4,
 "nbformat_minor": 2
}
